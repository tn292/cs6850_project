{
 "cells": [
  {
   "cell_type": "markdown",
   "metadata": {},
   "source": [
    "Loading data"
   ]
  },
  {
   "cell_type": "code",
   "execution_count": 1,
   "metadata": {},
   "outputs": [],
   "source": [
    "import pandas as pd"
   ]
  },
  {
   "cell_type": "code",
   "execution_count": 22,
   "metadata": {},
   "outputs": [],
   "source": [
    "cell_stats = pd.read_csv('cell_stats.csv.gz')\n",
    "connections = pd.read_csv('connections.csv.gz')\n",
    "connections_no_threshold = pd.read_csv('connections_no_threshold.csv.gz')\n",
    "connectivity_tags = pd.read_csv('connectivity_tags.csv.gz')\n",
    "consolidated_cell_types = pd.read_csv('consolidated_cell_types.csv.gz')\n",
    "coordinates = pd.read_csv('coordinates.csv.gz')\n",
    "names = pd.read_csv('names.csv.gz')\n",
    "neurons = pd.read_csv('neurons.csv.gz')\n",
    "neuropil_synapse_table = pd.read_csv('neuropil_synapse_table.csv.gz')\n",
    "processed_labels = pd.read_csv('processed_labels.csv.gz')"
   ]
  },
  {
   "cell_type": "markdown",
   "metadata": {},
   "source": [
    "Data preprocessing"
   ]
  },
  {
   "cell_type": "code",
   "execution_count": 23,
   "metadata": {},
   "outputs": [
    {
     "data": {
      "text/html": [
       "<div>\n",
       "<style scoped>\n",
       "    .dataframe tbody tr th:only-of-type {\n",
       "        vertical-align: middle;\n",
       "    }\n",
       "\n",
       "    .dataframe tbody tr th {\n",
       "        vertical-align: top;\n",
       "    }\n",
       "\n",
       "    .dataframe thead th {\n",
       "        text-align: right;\n",
       "    }\n",
       "</style>\n",
       "<table border=\"1\" class=\"dataframe\">\n",
       "  <thead>\n",
       "    <tr style=\"text-align: right;\">\n",
       "      <th></th>\n",
       "      <th>root_id</th>\n",
       "      <th>length_nm</th>\n",
       "      <th>area_nm</th>\n",
       "      <th>size_nm</th>\n",
       "    </tr>\n",
       "  </thead>\n",
       "  <tbody>\n",
       "    <tr>\n",
       "      <th>0</th>\n",
       "      <td>720575940596125868</td>\n",
       "      <td>396840</td>\n",
       "      <td>628299136</td>\n",
       "      <td>37616302080</td>\n",
       "    </tr>\n",
       "    <tr>\n",
       "      <th>1</th>\n",
       "      <td>720575940597856265</td>\n",
       "      <td>1184013</td>\n",
       "      <td>1634424448</td>\n",
       "      <td>100004290560</td>\n",
       "    </tr>\n",
       "    <tr>\n",
       "      <th>2</th>\n",
       "      <td>720575940597944841</td>\n",
       "      <td>784742</td>\n",
       "      <td>1022307072</td>\n",
       "      <td>58954229760</td>\n",
       "    </tr>\n",
       "    <tr>\n",
       "      <th>3</th>\n",
       "      <td>720575940598267657</td>\n",
       "      <td>1645960</td>\n",
       "      <td>2346787840</td>\n",
       "      <td>140744601600</td>\n",
       "    </tr>\n",
       "    <tr>\n",
       "      <th>4</th>\n",
       "      <td>720575940599333574</td>\n",
       "      <td>575383</td>\n",
       "      <td>1366784768</td>\n",
       "      <td>111170764800</td>\n",
       "    </tr>\n",
       "    <tr>\n",
       "      <th>...</th>\n",
       "      <td>...</td>\n",
       "      <td>...</td>\n",
       "      <td>...</td>\n",
       "      <td>...</td>\n",
       "    </tr>\n",
       "    <tr>\n",
       "      <th>139241</th>\n",
       "      <td>720575940661333889</td>\n",
       "      <td>1292208</td>\n",
       "      <td>2567808384</td>\n",
       "      <td>194386442240</td>\n",
       "    </tr>\n",
       "    <tr>\n",
       "      <th>139242</th>\n",
       "      <td>720575940661335681</td>\n",
       "      <td>3800832</td>\n",
       "      <td>8201410304</td>\n",
       "      <td>745657835520</td>\n",
       "    </tr>\n",
       "    <tr>\n",
       "      <th>139243</th>\n",
       "      <td>720575940661336193</td>\n",
       "      <td>854317</td>\n",
       "      <td>1337822848</td>\n",
       "      <td>90069493760</td>\n",
       "    </tr>\n",
       "    <tr>\n",
       "      <th>139244</th>\n",
       "      <td>720575940661337217</td>\n",
       "      <td>948687</td>\n",
       "      <td>1959185664</td>\n",
       "      <td>135310899200</td>\n",
       "    </tr>\n",
       "    <tr>\n",
       "      <th>139245</th>\n",
       "      <td>720575940661339777</td>\n",
       "      <td>157418</td>\n",
       "      <td>535843712</td>\n",
       "      <td>36190658560</td>\n",
       "    </tr>\n",
       "  </tbody>\n",
       "</table>\n",
       "<p>139246 rows × 4 columns</p>\n",
       "</div>"
      ],
      "text/plain": [
       "                   root_id  length_nm     area_nm       size_nm\n",
       "0       720575940596125868     396840   628299136   37616302080\n",
       "1       720575940597856265    1184013  1634424448  100004290560\n",
       "2       720575940597944841     784742  1022307072   58954229760\n",
       "3       720575940598267657    1645960  2346787840  140744601600\n",
       "4       720575940599333574     575383  1366784768  111170764800\n",
       "...                    ...        ...         ...           ...\n",
       "139241  720575940661333889    1292208  2567808384  194386442240\n",
       "139242  720575940661335681    3800832  8201410304  745657835520\n",
       "139243  720575940661336193     854317  1337822848   90069493760\n",
       "139244  720575940661337217     948687  1959185664  135310899200\n",
       "139245  720575940661339777     157418   535843712   36190658560\n",
       "\n",
       "[139246 rows x 4 columns]"
      ]
     },
     "execution_count": 23,
     "metadata": {},
     "output_type": "execute_result"
    }
   ],
   "source": [
    "cell_stats"
   ]
  },
  {
   "cell_type": "code",
   "execution_count": 24,
   "metadata": {},
   "outputs": [],
   "source": [
    "cell_features = cell_stats[['root_id', 'length_nm', 'area_nm', 'size_nm']].copy()\n",
    "cell_features = cell_features.fillna(0)  # Handle missing values"
   ]
  },
  {
   "cell_type": "code",
   "execution_count": 25,
   "metadata": {},
   "outputs": [],
   "source": [
    "cell_types = pd.get_dummies(consolidated_cell_types[['root_id', 'primary_type']], columns=['primary_type'])\n"
   ]
  },
  {
   "cell_type": "code",
   "execution_count": 26,
   "metadata": {},
   "outputs": [],
   "source": [
    "neuropil_features = neuropil_synapse_table.groupby('root_id').agg({\n",
    "    'input synapses': 'sum',\n",
    "    'output synapses': 'sum'\n",
    "}).reset_index()"
   ]
  },
  {
   "cell_type": "code",
   "execution_count": 27,
   "metadata": {},
   "outputs": [],
   "source": [
    "neuron_features = neurons[['root_id', 'nt_type', 'nt_type_score']].copy()\n"
   ]
  },
  {
   "cell_type": "code",
   "execution_count": 28,
   "metadata": {},
   "outputs": [],
   "source": [
    "connectivity_tags['connectivity_tag'] = connectivity_tags['connectivity_tag'].str.split(',')\n"
   ]
  },
  {
   "cell_type": "code",
   "execution_count": 29,
   "metadata": {},
   "outputs": [],
   "source": [
    "node_features = cell_features.merge(cell_types, on='root_id', how='left')\\\n",
    "                             .merge(neuropil_features, on='root_id', how='left')\\\n",
    "                             .merge(neuron_features, on='root_id', how='left')\\\n",
    "                             .merge(connectivity_tags, on='root_id', how='left')\\\n",
    "                             .merge(names, on='root_id', how='left')\\\n",
    "                             .merge(processed_labels, on='root_id', how='left')\n",
    "node_features = node_features.fillna(0)"
   ]
  },
  {
   "cell_type": "markdown",
   "metadata": {},
   "source": [
    "normalize features"
   ]
  },
  {
   "cell_type": "code",
   "execution_count": 31,
   "metadata": {},
   "outputs": [],
   "source": [
    "from sklearn.preprocessing import MinMaxScaler\n",
    "scaler = MinMaxScaler()\n",
    "node_features[['length_nm', 'area_nm', 'size_nm']] = scaler.fit_transform(node_features[['length_nm', 'area_nm', 'size_nm']])"
   ]
  },
  {
   "cell_type": "code",
   "execution_count": 34,
   "metadata": {},
   "outputs": [],
   "source": [
    "node_features.to_csv('preprocessed_node_features.csv', index=False)"
   ]
  }
 ],
 "metadata": {
  "kernelspec": {
   "display_name": "Python 3.11.8 ('base')",
   "language": "python",
   "name": "python3"
  },
  "language_info": {
   "codemirror_mode": {
    "name": "ipython",
    "version": 3
   },
   "file_extension": ".py",
   "mimetype": "text/x-python",
   "name": "python",
   "nbconvert_exporter": "python",
   "pygments_lexer": "ipython3",
   "version": "3.11.8"
  },
  "orig_nbformat": 4,
  "vscode": {
   "interpreter": {
    "hash": "cd78fef2128015050713e82ca51c6520b11aee7c9ee8df750520bbbc7384cbaa"
   }
  }
 },
 "nbformat": 4,
 "nbformat_minor": 2
}
